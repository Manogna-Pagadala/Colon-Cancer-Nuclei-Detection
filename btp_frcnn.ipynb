{
  "nbformat": 4,
  "nbformat_minor": 0,
  "metadata": {
    "colab": {
      "name": "btp_frcnn",
      "provenance": [],
      "collapsed_sections": [],
      "authorship_tag": "ABX9TyNKoCWfYM4w98eugkkAC1II",
      "include_colab_link": true
    },
    "kernelspec": {
      "name": "python3",
      "display_name": "Python 3"
    },
    "accelerator": "TPU"
  },
  "cells": [
    {
      "cell_type": "markdown",
      "metadata": {
        "id": "view-in-github",
        "colab_type": "text"
      },
      "source": [
        "<a href=\"https://colab.research.google.com/github/Manogna-Pagadala/Colon-Cancer-Nuclei-Detection/blob/master/btp_frcnn.ipynb\" target=\"_parent\"><img src=\"https://colab.research.google.com/assets/colab-badge.svg\" alt=\"Open In Colab\"/></a>"
      ]
    },
    {
      "cell_type": "code",
      "metadata": {
        "id": "VnkDVmhbs3NR",
        "colab_type": "code",
        "outputId": "662d6c59-f75b-4289-9b30-a72e7c81116f",
        "colab": {
          "base_uri": "https://localhost:8080/",
          "height": 124
        }
      },
      "source": [
        "from google.colab import drive\n",
        "drive.mount('/content/drive')"
      ],
      "execution_count": 0,
      "outputs": [
        {
          "output_type": "stream",
          "text": [
            "Go to this URL in a browser: https://accounts.google.com/o/oauth2/auth?client_id=947318989803-6bn6qk8qdgf4n4g3pfee6491hc0brc4i.apps.googleusercontent.com&redirect_uri=urn%3aietf%3awg%3aoauth%3a2.0%3aoob&response_type=code&scope=email%20https%3a%2f%2fwww.googleapis.com%2fauth%2fdocs.test%20https%3a%2f%2fwww.googleapis.com%2fauth%2fdrive%20https%3a%2f%2fwww.googleapis.com%2fauth%2fdrive.photos.readonly%20https%3a%2f%2fwww.googleapis.com%2fauth%2fpeopleapi.readonly\n",
            "\n",
            "Enter your authorization code:\n",
            "··········\n",
            "Mounted at /content/drive\n"
          ],
          "name": "stdout"
        }
      ]
    },
    {
      "cell_type": "code",
      "metadata": {
        "id": "07UZxVkRtCTe",
        "colab_type": "code",
        "outputId": "1d70e397-e61c-42c7-844f-7707d42e7e1f",
        "colab": {
          "base_uri": "https://localhost:8080/",
          "height": 69
        }
      },
      "source": [
        "!ls \"/content/drive/My Drive/keras-frcnn\""
      ],
      "execution_count": 0,
      "outputs": [
        {
          "output_type": "stream",
          "text": [
            "annotate.txt   LICENSE\t       requirements.txt  train_frcnn.py\n",
            "config.pickle  measure_map.py  test_frcnn.py\t train_images\n",
            "keras_frcnn    README.md       test_images\n"
          ],
          "name": "stdout"
        }
      ]
    },
    {
      "cell_type": "code",
      "metadata": {
        "id": "jaOOLvkntWKL",
        "colab_type": "code",
        "colab": {}
      },
      "source": [
        "!cd \"/content/drive/My Drive/keras-frcnn\""
      ],
      "execution_count": 0,
      "outputs": []
    },
    {
      "cell_type": "code",
      "metadata": {
        "id": "ztlZQg5rt7n8",
        "colab_type": "code",
        "outputId": "aa39dd4b-85be-49ac-af84-ca58bf2bc2ef",
        "colab": {
          "base_uri": "https://localhost:8080/",
          "height": 1000
        }
      },
      "source": [
        "!python \"/content/drive/My Drive/keras-frcnn/train_frcnn.py\" -o simple -p \"/content/drive/My Drive/keras-frcnn/annotate.txt\""
      ],
      "execution_count": 0,
      "outputs": [
        {
          "output_type": "stream",
          "text": [
            "Using TensorFlow backend.\n",
            "2020-05-19 13:25:14.712910: I tensorflow/stream_executor/platform/default/dso_loader.cc:44] Successfully opened dynamic library libcudart.so.10.1\n",
            "Parsing annotation files\n",
            "fn /content/drive/My Drive/keras-frcnn/train_images/img1.bmp\n",
            "fn /content/drive/My Drive/keras-frcnn/train_images/img2.bmp\n",
            "fn /content/drive/My Drive/keras-frcnn/train_images/img3.bmp\n",
            "fn /content/drive/My Drive/keras-frcnn/train_images/img4.bmp\n",
            "fn /content/drive/My Drive/keras-frcnn/train_images/img6.bmp\n",
            "fn /content/drive/My Drive/keras-frcnn/train_images/img7.bmp\n",
            "fn /content/drive/My Drive/keras-frcnn/train_images/img8.bmp\n",
            "fn /content/drive/My Drive/keras-frcnn/train_images/img9.bmp\n",
            "fn /content/drive/My Drive/keras-frcnn/train_images/img11.bmp\n",
            "fn /content/drive/My Drive/keras-frcnn/train_images/img12.bmp\n",
            "fn /content/drive/My Drive/keras-frcnn/train_images/img13.bmp\n",
            "fn /content/drive/My Drive/keras-frcnn/train_images/img14.bmp\n",
            "fn /content/drive/My Drive/keras-frcnn/train_images/img16.bmp\n",
            "fn /content/drive/My Drive/keras-frcnn/train_images/img17.bmp\n",
            "fn /content/drive/My Drive/keras-frcnn/train_images/img18.bmp\n",
            "fn /content/drive/My Drive/keras-frcnn/train_images/img19.bmp\n",
            "fn /content/drive/My Drive/keras-frcnn/train_images/img21.bmp\n",
            "fn /content/drive/My Drive/keras-frcnn/train_images/img22.bmp\n",
            "fn /content/drive/My Drive/keras-frcnn/train_images/img23.bmp\n",
            "fn /content/drive/My Drive/keras-frcnn/train_images/img24.bmp\n",
            "fn /content/drive/My Drive/keras-frcnn/train_images/img26.bmp\n",
            "fn /content/drive/My Drive/keras-frcnn/train_images/img27.bmp\n",
            "fn /content/drive/My Drive/keras-frcnn/train_images/img28.bmp\n",
            "fn /content/drive/My Drive/keras-frcnn/train_images/img29.bmp\n",
            "fn /content/drive/My Drive/keras-frcnn/train_images/img31.bmp\n",
            "fn /content/drive/My Drive/keras-frcnn/train_images/img32.bmp\n",
            "fn /content/drive/My Drive/keras-frcnn/train_images/img33.bmp\n",
            "fn /content/drive/My Drive/keras-frcnn/train_images/img34.bmp\n",
            "fn /content/drive/My Drive/keras-frcnn/train_images/img36.bmp\n",
            "fn /content/drive/My Drive/keras-frcnn/train_images/img37.bmp\n",
            "fn /content/drive/My Drive/keras-frcnn/train_images/img38.bmp\n",
            "fn /content/drive/My Drive/keras-frcnn/train_images/img39.bmp\n",
            "fn /content/drive/My Drive/keras-frcnn/train_images/img41.bmp\n",
            "fn /content/drive/My Drive/keras-frcnn/train_images/img42.bmp\n",
            "fn /content/drive/My Drive/keras-frcnn/train_images/img43.bmp\n",
            "fn /content/drive/My Drive/keras-frcnn/train_images/img44.bmp\n",
            "fn /content/drive/My Drive/keras-frcnn/train_images/img46.bmp\n",
            "fn /content/drive/My Drive/keras-frcnn/train_images/img47.bmp\n",
            "fn /content/drive/My Drive/keras-frcnn/train_images/img48.bmp\n",
            "fn /content/drive/My Drive/keras-frcnn/train_images/img49.bmp\n",
            "fn /content/drive/My Drive/keras-frcnn/train_images/img51.bmp\n",
            "fn /content/drive/My Drive/keras-frcnn/train_images/img52.bmp\n",
            "fn /content/drive/My Drive/keras-frcnn/train_images/img53.bmp\n",
            "fn /content/drive/My Drive/keras-frcnn/train_images/img54.bmp\n",
            "fn /content/drive/My Drive/keras-frcnn/train_images/img56.bmp\n",
            "fn /content/drive/My Drive/keras-frcnn/train_images/img57.bmp\n",
            "fn /content/drive/My Drive/keras-frcnn/train_images/img58.bmp\n",
            "fn /content/drive/My Drive/keras-frcnn/train_images/img59.bmp\n",
            "fn /content/drive/My Drive/keras-frcnn/train_images/img61.bmp\n",
            "fn /content/drive/My Drive/keras-frcnn/train_images/img62.bmp\n",
            "fn /content/drive/My Drive/keras-frcnn/train_images/img63.bmp\n",
            "fn /content/drive/My Drive/keras-frcnn/train_images/img64.bmp\n",
            "fn /content/drive/My Drive/keras-frcnn/train_images/img66.bmp\n",
            "fn /content/drive/My Drive/keras-frcnn/train_images/img67.bmp\n",
            "fn /content/drive/My Drive/keras-frcnn/train_images/img68.bmp\n",
            "fn /content/drive/My Drive/keras-frcnn/train_images/img69.bmp\n",
            "fn /content/drive/My Drive/keras-frcnn/train_images/img71.bmp\n",
            "fn /content/drive/My Drive/keras-frcnn/train_images/img72.bmp\n",
            "fn /content/drive/My Drive/keras-frcnn/train_images/img73.bmp\n",
            "fn /content/drive/My Drive/keras-frcnn/train_images/img74.bmp\n",
            "fn /content/drive/My Drive/keras-frcnn/train_images/img76.bmp\n",
            "fn /content/drive/My Drive/keras-frcnn/train_images/img77.bmp\n",
            "fn /content/drive/My Drive/keras-frcnn/train_images/img78.bmp\n",
            "fn /content/drive/My Drive/keras-frcnn/train_images/img79.bmp\n",
            "fn /content/drive/My Drive/keras-frcnn/train_images/img81.bmp\n",
            "fn /content/drive/My Drive/keras-frcnn/train_images/img82.bmp\n",
            "fn /content/drive/My Drive/keras-frcnn/train_images/img83.bmp\n",
            "fn /content/drive/My Drive/keras-frcnn/train_images/img84.bmp\n",
            "fn /content/drive/My Drive/keras-frcnn/train_images/img86.bmp\n",
            "fn /content/drive/My Drive/keras-frcnn/train_images/img87.bmp\n",
            "fn /content/drive/My Drive/keras-frcnn/train_images/img88.bmp\n",
            "fn /content/drive/My Drive/keras-frcnn/train_images/img89.bmp\n",
            "fn /content/drive/My Drive/keras-frcnn/train_images/img91.bmp\n",
            "fn /content/drive/My Drive/keras-frcnn/train_images/img92.bmp\n",
            "fn /content/drive/My Drive/keras-frcnn/train_images/img93.bmp\n",
            "fn /content/drive/My Drive/keras-frcnn/train_images/img94.bmp\n",
            "fn /content/drive/My Drive/keras-frcnn/train_images/img96.bmp\n",
            "fn /content/drive/My Drive/keras-frcnn/train_images/img97.bmp\n",
            "fn /content/drive/My Drive/keras-frcnn/train_images/img98.bmp\n",
            "fn /content/drive/My Drive/keras-frcnn/train_images/img99.bmp\n",
            "Training images per class:\n",
            "{'bg': 0,\n",
            " 'epithelial': 5659,\n",
            " 'fibroblast': 4629,\n",
            " 'inflammatory': 6057,\n",
            " 'others': 8233}\n",
            "Num classes (including bg) = 5\n",
            "Config has been written to config.pickle, and can be loaded when testing to ensure correct results\n",
            "Num train samples 63\n",
            "Num val samples 17\n",
            "2020-05-19 13:25:16.924709: I tensorflow/stream_executor/platform/default/dso_loader.cc:44] Successfully opened dynamic library libcuda.so.1\n",
            "2020-05-19 13:25:16.926456: E tensorflow/stream_executor/cuda/cuda_driver.cc:313] failed call to cuInit: CUDA_ERROR_NO_DEVICE: no CUDA-capable device is detected\n",
            "2020-05-19 13:25:16.926493: I tensorflow/stream_executor/cuda/cuda_diagnostics.cc:156] kernel driver does not appear to be running on this host (2f6537a851c9): /proc/driver/nvidia/version does not exist\n",
            "2020-05-19 13:25:16.931410: I tensorflow/core/platform/profile_utils/cpu_utils.cc:102] CPU Frequency: 2300000000 Hz\n",
            "2020-05-19 13:25:16.931651: I tensorflow/compiler/xla/service/service.cc:168] XLA service 0x1ea4d80 initialized for platform Host (this does not guarantee that XLA will be used). Devices:\n",
            "2020-05-19 13:25:16.931687: I tensorflow/compiler/xla/service/service.cc:176]   StreamExecutor device (0): Host, Default Version\n",
            "loading weights from resnet50_weights_tf_dim_ordering_tf_kernels.h5\n",
            "Could not load pretrained model weights. Weights can be found in the keras application folder \t\thttps://github.com/fchollet/keras/tree/master/keras/applications\n",
            "Starting training\n",
            "Epoch 1/5\n",
            "47/50 [===========================>..] - ETA: 2:37 - rpn_cls: 5.4816 - rpn_regr: 0.5328 - detector_cls: 1.2357 - detector_regr: 0.5360Average number of overlapping bounding boxes from RPN = 19.7 for 50 previous iterations\n",
            "50/50 [==============================] - 2674s 53s/step - rpn_cls: 5.4492 - rpn_regr: 0.5110 - detector_cls: 1.2310 - detector_regr: 0.5294\n",
            "Mean number of bounding boxes from RPN overlapping ground truth boxes: 19.38888888888889\n",
            "Classifier accuracy for bounding boxes from RPN: 0.56125\n",
            "Loss RPN classifier: 5.449210051391168\n",
            "Loss RPN regression: 0.5110250987112522\n",
            "Loss Detector classifier: 1.2309508061408996\n",
            "Loss Detector regression: 0.5294426912069321\n",
            "Elapsed time: 2673.728521347046\n",
            "Total loss decreased from inf to 7.720628647450252, saving weights\n",
            "Epoch 2/5\n",
            "43/50 [========================>.....] - ETA: 6:12 - rpn_cls: 5.2475 - rpn_regr: 0.4225 - detector_cls: 1.0347 - detector_regr: 0.4251Average number of overlapping bounding boxes from RPN = 17.76 for 50 previous iterations\n",
            "50/50 [==============================] - 2740s 55s/step - rpn_cls: 5.2702 - rpn_regr: 0.4173 - detector_cls: 1.0394 - detector_regr: 0.4224\n",
            "Mean number of bounding boxes from RPN overlapping ground truth boxes: 17.77777777777778\n",
            "Classifier accuracy for bounding boxes from RPN: 0.644375\n",
            "Loss RPN classifier: 5.270165634646776\n",
            "Loss RPN regression: 0.4173467066138983\n",
            "Loss Detector classifier: 1.039375137090683\n",
            "Loss Detector regression: 0.42240391552448275\n",
            "Elapsed time: 2740.074869155884\n",
            "Total loss decreased from 7.720628647450252 to 7.149291393875839, saving weights\n",
            "Epoch 3/5\n",
            "39/50 [======================>.......] - ETA: 9:17 - rpn_cls: 5.2579 - rpn_regr: 0.4392 - detector_cls: 0.9303 - detector_regr: 0.4521Average number of overlapping bounding boxes from RPN = 14.74 for 50 previous iterations\n",
            "50/50 [==============================] - 2596s 52s/step - rpn_cls: 5.2634 - rpn_regr: 0.4404 - detector_cls: 0.9162 - detector_regr: 0.4567\n",
            "Mean number of bounding boxes from RPN overlapping ground truth boxes: 13.88888888888889\n",
            "Classifier accuracy for bounding boxes from RPN: 0.6925\n",
            "Loss RPN classifier: 5.263435220718383\n",
            "Loss RPN regression: 0.4403872876986861\n",
            "Loss Detector classifier: 0.9162265342473984\n",
            "Loss Detector regression: 0.4566669410467148\n",
            "Elapsed time: 2596.7300112247467\n",
            "Total loss decreased from 7.149291393875839 to 7.076715983711183, saving weights\n",
            "Epoch 4/5\n",
            "35/50 [====================>.........] - ETA: 13:14 - rpn_cls: 5.0350 - rpn_regr: 0.4184 - detector_cls: 0.8561 - detector_regr: 0.4005Average number of overlapping bounding boxes from RPN = 11.86 for 50 previous iterations\n",
            "50/50 [==============================] - 2693s 54s/step - rpn_cls: 5.0850 - rpn_regr: 0.4120 - detector_cls: 0.8670 - detector_regr: 0.4166\n",
            "Mean number of bounding boxes from RPN overlapping ground truth boxes: 11.867924528301886\n",
            "Classifier accuracy for bounding boxes from RPN: 0.705625\n",
            "Loss RPN classifier: 5.084963319993985\n",
            "Loss RPN regression: 0.4120469432324171\n",
            "Loss Detector classifier: 0.8670054799318314\n",
            "Loss Detector regression: 0.41655572444200517\n",
            "Elapsed time: 2693.9027416706085\n",
            "Total loss decreased from 7.076715983711183 to 6.780571467600239, saving weights\n",
            "Epoch 5/5\n",
            "32/50 [==================>...........] - ETA: 16:23 - rpn_cls: 5.1708 - rpn_regr: 0.3876 - detector_cls: 0.8014 - detector_regr: 0.4045Average number of overlapping bounding boxes from RPN = 9.56 for 50 previous iterations\n",
            "36/50 [====================>.........] - ETA: 13:09 - rpn_cls: 5.1073 - rpn_regr: 0.3772 - detector_cls: 0.8257 - detector_regr: 0.4148"
          ],
          "name": "stdout"
        }
      ]
    },
    {
      "cell_type": "code",
      "metadata": {
        "id": "Eew1nwgpEPT3",
        "colab_type": "code",
        "colab": {}
      },
      "source": [
        ""
      ],
      "execution_count": 0,
      "outputs": []
    }
  ]
}